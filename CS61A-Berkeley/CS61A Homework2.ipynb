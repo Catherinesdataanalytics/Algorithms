{
 "cells": [
  {
   "cell_type": "markdown",
   "metadata": {},
   "source": [
    "#### CS61A Homework2"
   ]
  },
  {
   "cell_type": "code",
   "execution_count": 133,
   "metadata": {},
   "outputs": [],
   "source": [
    "HW_SOURCE_FILE = 'hw02.py'\n",
    "\n",
    "def square(x):\n",
    "    return x * x\n",
    "\n",
    "def identity(x):\n",
    "    return x\n",
    "\n",
    "triple = lambda x: 3 * x\n",
    "\n",
    "increment = lambda x: x + 1"
   ]
  },
  {
   "cell_type": "markdown",
   "metadata": {},
   "source": [
    "#### Q1: Product"
   ]
  },
  {
   "cell_type": "code",
   "execution_count": 134,
   "metadata": {},
   "outputs": [],
   "source": [
    "import math"
   ]
  },
  {
   "cell_type": "code",
   "execution_count": 135,
   "metadata": {},
   "outputs": [],
   "source": [
    "#problem remains"
   ]
  },
  {
   "cell_type": "code",
   "execution_count": 138,
   "metadata": {},
   "outputs": [],
   "source": [
    "def product(n, term):\n",
    "    \"\"\"Return the product of the first n terms in a sequence.\n",
    "    n    -- a positive integer\n",
    "    term -- a function that takes one argument\n",
    "\n",
    "    >>> product(3, identity)  # 1 * 2 * 3\n",
    "    6\n",
    "    >>> product(5, identity)  # 1 * 2 * 3 * 4 * 5\n",
    "    120\n",
    "    >>> product(3, square)    # 1^2 * 2^2 * 3^2\n",
    "    36\n",
    "    >>> product(5, square)    # 1^2 * 2^2 * 3^2 * 4^2 * 5^2\n",
    "    14400\n",
    "    >>> product(3, increment) # (1+1) * (2+1) * (3+1)\n",
    "    24\n",
    "    >>> product(3, triple)    # 1*3 * 2*3 * 3*3\n",
    "    162\n",
    "    \"\"\"\n",
    "    \"*** YOUR CODE HERE ***\"\n",
    "    i=term(1)\n",
    "    return i*reduce(lambda x,y: x*term(y), range(1,n+1))\n",
    "        \n",
    "# The identity function, defined using a lambda expression!\n",
    "#identity = lambda k: k"
   ]
  },
  {
   "cell_type": "code",
   "execution_count": 139,
   "metadata": {},
   "outputs": [
    {
     "name": "stdout",
     "output_type": "stream",
     "text": [
      "6\n",
      "120\n",
      "36\n",
      "14400\n",
      "24\n",
      "162\n"
     ]
    },
    {
     "data": {
      "text/plain": [
       "'\\n    >>> product(3, identity)  # 1 * 2 * 3\\n    6\\n    >>> product(5, identity)  # 1 * 2 * 3 * 4 * 5\\n    120\\n    >>> product(3, square)    # 1^2 * 2^2 * 3^2\\n    36\\n    >>> product(5, square)    # 1^2 * 2^2 * 3^2 * 4^2 * 5^2\\n    14400\\n    >>> product(3, increment) # (1+1) * (2+1) * (3+1)\\n    24\\n    >>> product(3, triple)    # 1*3 * 2*3 * 3*3\\n    162\\n    '"
      ]
     },
     "execution_count": 139,
     "metadata": {},
     "output_type": "execute_result"
    }
   ],
   "source": [
    "print( product(3, identity))# 1 * 2 * 3\n",
    "print( product(5, identity))  # 1 * 2 * 3 * 4 * 5\n",
    "print( product(3, square))  # 1^2 * 2^2 * 3^2\n",
    "print( product(5, square))    # 1^2 * 2^2 * 3^2 * 4^2 * 5^2\n",
    "print( product(3, increment)) # (1+1) * (2+1) * (3+1)\n",
    "print( product(3, triple))    # 1*3 * 2*3 * 3*3\n",
    "\"\"\"\n",
    "    >>> product(3, identity)  # 1 * 2 * 3\n",
    "    6\n",
    "    >>> product(5, identity)  # 1 * 2 * 3 * 4 * 5\n",
    "    120\n",
    "    >>> product(3, square)    # 1^2 * 2^2 * 3^2\n",
    "    36\n",
    "    >>> product(5, square)    # 1^2 * 2^2 * 3^2 * 4^2 * 5^2\n",
    "    14400\n",
    "    >>> product(3, increment) # (1+1) * (2+1) * (3+1)\n",
    "    24\n",
    "    >>> product(3, triple)    # 1*3 * 2*3 * 3*3\n",
    "    162\n",
    "    \"\"\""
   ]
  },
  {
   "cell_type": "code",
   "execution_count": 81,
   "metadata": {},
   "outputs": [],
   "source": [
    "from functools import reduce\n",
    "def factorial(n):\n",
    "    \"\"\"Return n factorial for n >= 0 by calling product.\n",
    "\n",
    "    >>> factorial(4)\n",
    "    24\n",
    "    >>> factorial(6)\n",
    "    720\n",
    "    >>> from construct_check import check\n",
    "    >>> check(HW_SOURCE_FILE, 'factorial', ['Recursion', 'For', 'While'])\n",
    "    True\n",
    "    \"\"\"\n",
    "    \"*** YOUR CODE HERE ***\"\n",
    "    return reduce(lambda x,y :x*y,range(1,n+1))"
   ]
  },
  {
   "cell_type": "code",
   "execution_count": 82,
   "metadata": {},
   "outputs": [
    {
     "data": {
      "text/plain": [
       "720"
      ]
     },
     "execution_count": 82,
     "metadata": {},
     "output_type": "execute_result"
    }
   ],
   "source": [
    "factorial(6)"
   ]
  },
  {
   "cell_type": "code",
   "execution_count": 104,
   "metadata": {},
   "outputs": [
    {
     "name": "stdout",
     "output_type": "stream",
     "text": [
      "The sum of the list elements is : 17\n",
      "The maximum element of the list is : 6\n"
     ]
    }
   ],
   "source": [
    "lis = [ 1 , 3, 5, 6, 2, ]\n",
    "# using reduce to compute sum of list\n",
    "print (\"The sum of the list elements is : \",end=\"\")\n",
    "print (reduce(lambda a,b : a+b,lis))\n",
    " \n",
    "# using reduce to compute maximum element from list\n",
    "print (\"The maximum element of the list is : \",end=\"\")\n",
    "print (reduce(lambda a,b : a if a > b else b,lis))"
   ]
  },
  {
   "cell_type": "markdown",
   "metadata": {},
   "source": [
    "Reduce function in Python: http://book.pythontips.com/en/latest/map_filter.html"
   ]
  },
  {
   "cell_type": "markdown",
   "metadata": {},
   "source": [
    "#### Q2: Make Adder with a Lambda"
   ]
  },
  {
   "cell_type": "code",
   "execution_count": 56,
   "metadata": {},
   "outputs": [],
   "source": [
    "def make_adder(num):\n",
    "    \"\"\"Return a function that takes an argument K and returns N + K.\n",
    "\n",
    "    >>> add_three = make_adder(3)\n",
    "    >>> add_three(1) + add_three(2)\n",
    "    9\n",
    "    >>> make_adder(1)(2)\n",
    "    3\n",
    "    \"\"\"\n",
    "    \"*** YOUR CODE HERE ***\"  \n",
    "    return lambda x: num + x \n",
    "    #return (lambda(n)  (+n 3))#'REPLACE ME'"
   ]
  },
  {
   "cell_type": "code",
   "execution_count": 64,
   "metadata": {},
   "outputs": [
    {
     "data": {
      "text/plain": [
       "3"
      ]
     },
     "execution_count": 64,
     "metadata": {},
     "output_type": "execute_result"
    }
   ],
   "source": [
    "make_adder(1)(2)"
   ]
  },
  {
   "cell_type": "code",
   "execution_count": 60,
   "metadata": {},
   "outputs": [
    {
     "data": {
      "text/plain": [
       "7"
      ]
     },
     "execution_count": 60,
     "metadata": {},
     "output_type": "execute_result"
    }
   ],
   "source": [
    "make_adder(3)(4)"
   ]
  },
  {
   "cell_type": "code",
   "execution_count": 63,
   "metadata": {},
   "outputs": [
    {
     "data": {
      "text/plain": [
       "9"
      ]
     },
     "execution_count": 63,
     "metadata": {},
     "output_type": "execute_result"
    }
   ],
   "source": [
    "add_three = make_adder(3)\n",
    "add_three(1) + add_three(2)"
   ]
  }
 ],
 "metadata": {
  "kernelspec": {
   "display_name": "Python 3",
   "language": "python",
   "name": "python3"
  },
  "language_info": {
   "codemirror_mode": {
    "name": "ipython",
    "version": 3
   },
   "file_extension": ".py",
   "mimetype": "text/x-python",
   "name": "python",
   "nbconvert_exporter": "python",
   "pygments_lexer": "ipython3",
   "version": "3.6.3"
  }
 },
 "nbformat": 4,
 "nbformat_minor": 2
}
